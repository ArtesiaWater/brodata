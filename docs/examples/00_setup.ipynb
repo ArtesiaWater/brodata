{
 "cells": [
  {
   "cell_type": "markdown",
   "id": "69155d76-2f7f-4576-80b2-0162cf562370",
   "metadata": {},
   "source": [
    "# General setup"
   ]
  },
  {
   "cell_type": "markdown",
   "id": "a3135f4f-487e-4e37-bbaf-538079952b9d",
   "metadata": {},
   "source": [
    "The Python-package `brodata` allows the user to download and analyse groundwater data from the Dutch databases BRO (BasisRegistratie Ondergrond) and DINO (Data en Informatie Nederlandse Ondergrond).\n",
    "\n",
    "Although both databases contain only data from the Netherlands, we decided to use English as the main language of the Python-package. In this way, `brodata` fits well within the Python framework. In addition, the names of most BRO-classes are also defined in English (e.g. `GroundwaterMonitoringWell`).\n",
    "\n",
    "`brodata` can download data from both databases, or can be used to read the data from files. Every datatype has a distinct python-object. To enhance user familiarity, the same names as those in the databases are used as much as possible. For example, a drilling is called \"GeotechnicalBoreholeResearch\" in the BRO, while it is called \"GeologischBooronderzoek\" in DINO. Each of the `brodata` classes has a `to_dict` method, which adds all data to a dictionary. This method is also used combine multiple objects into a GeoDataFrame, using `brodata.util.objects_to_gdf`. THe BRO-classes have a `from_bro_id`-class-method, which downloads data using the distinct bro-id. For the DINO-classes this method is called `from_dino_nr`, which downloads data using a distict dino-number.\n",
    "\n",
    "`brodata` tries to keep the interpretation of data to a minimum level. Tabular data is transformed to pandas DataFrames, and geographical information is transformed to geopandas GeoDataFrames. Apart from this interpretation, `brodata` supplies the data to the user without additional changes. For example: groundwater heads downloaded from DINO have the unit of cm, while groundwater heads downloaded from BRO have the unit of m.\n",
    "\n",
    "However, some post-processing functionality has been implemented, for example to plot boreholes, or to remove duplicate measurements in groundwater heads from the BRO."
   ]
  },
  {
   "cell_type": "markdown",
   "id": "f764f9c8-a6cc-42b4-b4f3-20a6db105f97",
   "metadata": {},
   "source": [
    "## Bugs and improvements\n",
    "The issue section of the GitHUB-repository of `brodata` (https://github.com/ArtesiaWater/brodata/issues) can be used to report bugs or propose improvements. Users can also add Pull Requests to change the code. To receive support, users can contact Artesia Water (r.calje@artesia-water.nl)."
   ]
  }
 ],
 "metadata": {
  "language_info": {
   "name": "python"
  }
 },
 "nbformat": 4,
 "nbformat_minor": 5
}
