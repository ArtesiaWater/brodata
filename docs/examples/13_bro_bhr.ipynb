{
 "cells": [
  {
   "cell_type": "markdown",
   "id": "575221fa-cff5-43b6-a67c-8a0ded3d8621",
   "metadata": {},
   "source": [
    "# Geotechnical Borehole Research"
   ]
  },
  {
   "cell_type": "code",
   "execution_count": null,
   "id": "a06d73c0-1241-4e72-bb1b-ff88a8ab8128",
   "metadata": {},
   "outputs": [],
   "source": [
    "import brodata\n",
    "import matplotlib.pyplot as plt"
   ]
  },
  {
   "cell_type": "code",
   "execution_count": null,
   "id": "ed233427-3b9b-4d5b-8204-b402b91b3f66",
   "metadata": {},
   "outputs": [],
   "source": [
    "bhrgt = brodata.bhr.GeotechnicalBoreholeResearch.from_bro_id(\"BHR000000353924\")\n",
    "bhrgt.to_dict()"
   ]
  },
  {
   "cell_type": "code",
   "execution_count": null,
   "id": "c4820d01-4e71-40dc-8767-fbb05ad6d767",
   "metadata": {},
   "outputs": [],
   "source": [
    "bhrgt.descriptiveBoreholeLog[0]['layer']"
   ]
  },
  {
   "cell_type": "markdown",
   "id": "112f6fb9-b0f2-4a45-b3c8-7bed4952d12f",
   "metadata": {},
   "source": [
    "Plot the descriptive borehole logs."
   ]
  },
  {
   "cell_type": "code",
   "execution_count": null,
   "id": "f40c984d-74c1-4241-85de-8944fa702853",
   "metadata": {},
   "outputs": [],
   "source": [
    "f, ax = plt.subplots()\n",
    "xticks = []\n",
    "xticklabels = []\n",
    "for x, bl in enumerate(bhrgt.descriptiveBoreholeLog):\n",
    "    brodata.plot.bro_lithology(bl['layer'], x=x, z=bhrgt.offset, ax=ax)\n",
    "    xticks.append(x)\n",
    "    xticklabels.append(bl['descriptionQuality'])\n",
    "ax.set_xlim(-0.5, x+0.5);\n",
    "ax.set_xticks(xticks)\n",
    "ax.set_xticklabels(xticklabels)\n",
    "ax.set_ylabel(\"z (m t.o.v. NAP)\");"
   ]
  },
  {
   "cell_type": "code",
   "execution_count": null,
   "id": "4af85cf9-3922-4aaa-b6cf-e93650af8ccc",
   "metadata": {},
   "outputs": [],
   "source": []
  }
 ],
 "metadata": {
  "language_info": {
   "name": "python"
  }
 },
 "nbformat": 4,
 "nbformat_minor": 5
}
