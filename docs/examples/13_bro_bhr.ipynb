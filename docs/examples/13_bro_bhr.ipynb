{
 "cells": [
  {
   "cell_type": "markdown",
   "id": "575221fa-cff5-43b6-a67c-8a0ded3d8621",
   "metadata": {},
   "source": [
    "# Geotechnical Borehole Research"
   ]
  },
  {
   "cell_type": "code",
   "execution_count": null,
   "id": "a06d73c0-1241-4e72-bb1b-ff88a8ab8128",
   "metadata": {},
   "outputs": [],
   "source": [
    "import os\n",
    "import matplotlib.pyplot as plt\n",
    "import brodata"
   ]
  },
  {
   "cell_type": "code",
   "execution_count": null,
   "id": "ed233427-3b9b-4d5b-8204-b402b91b3f66",
   "metadata": {},
   "outputs": [],
   "source": [
    "download_dir = \"download\"\n",
    "if not os.path.isdir(download_dir):\n",
    "    os.makedirs(download_dir)\n",
    "to_file = os.path.join(download_dir, \"BHR000000353924.xml\")\n",
    "bhrgt = brodata.bhr.GeotechnicalBoreholeResearch.from_bro_id(\n",
    "    \"BHR000000353924\", to_file=to_file\n",
    ")"
   ]
  },
  {
   "cell_type": "code",
   "execution_count": null,
   "id": "c4820d01-4e71-40dc-8767-fbb05ad6d767",
   "metadata": {},
   "outputs": [],
   "source": [
    "bhrgt.descriptiveBoreholeLog[0][\"layer\"]"
   ]
  },
  {
   "cell_type": "markdown",
   "id": "112f6fb9-b0f2-4a45-b3c8-7bed4952d12f",
   "metadata": {},
   "source": [
    "Plot the descriptive borehole logs. A lot of soiltypes are missing, and there is no support fox mixed soil types (like kleiigVeen) yet."
   ]
  },
  {
   "cell_type": "code",
   "execution_count": null,
   "id": "f40c984d-74c1-4241-85de-8944fa702853",
   "metadata": {},
   "outputs": [],
   "source": [
    "f, ax = plt.subplots()\n",
    "xticks = []\n",
    "xticklabels = []\n",
    "for x, bl in enumerate(bhrgt.descriptiveBoreholeLog):\n",
    "    brodata.plot.bro_lithology(bl[\"layer\"], x=x, z=bhrgt.offset, ax=ax)\n",
    "    xticks.append(x)\n",
    "    xticklabels.append(bl[\"descriptionQuality\"])\n",
    "ax.set_xlim(-0.5, x + 0.5)\n",
    "ax.set_xticks(xticks)\n",
    "ax.set_xticklabels(xticklabels)\n",
    "ax.set_ylabel(\"z (m t.o.v. NAP)\");"
   ]
  },
  {
   "cell_type": "markdown",
   "id": "84291d4c-e302-49db-a245-7934ee6db04c",
   "metadata": {},
   "source": [
    "We can also call the BRO-service to generate the figure for us. This sends a request to the BRO-webservice, and returns a graphical representation of the drilling."
   ]
  },
  {
   "cell_type": "code",
   "execution_count": null,
   "id": "4af85cf9-3922-4aaa-b6cf-e93650af8ccc",
   "metadata": {},
   "outputs": [],
   "source": [
    "brodata.bhr.bhrgt_graph(to_file, language=\"en\")"
   ]
  },
  {
   "cell_type": "markdown",
   "id": "0d3d0d73-9176-4c7e-a635-fd321e9e38d3",
   "metadata": {},
   "source": [
    "Show the total contents of the Geotechnical Borehole Research"
   ]
  },
  {
   "cell_type": "code",
   "execution_count": null,
   "id": "a7a1cb83-3458-4038-aca8-f35e0d91ad0a",
   "metadata": {},
   "outputs": [],
   "source": [
    "bhrgt.to_dict()"
   ]
  }
 ],
 "metadata": {
  "language_info": {
   "name": "python"
  }
 },
 "nbformat": 4,
 "nbformat_minor": 5
}
