{
 "cells": [
  {
   "cell_type": "markdown",
   "id": "f3740ed6-bc42-4d6a-bbec-f8bdf2882f7f",
   "metadata": {},
   "source": [
    "# Groundwater Level Dossier"
   ]
  },
  {
   "cell_type": "code",
   "execution_count": null,
   "id": "9874c92a-2232-4f02-b073-d49c1495fde6",
   "metadata": {},
   "outputs": [],
   "source": [
    "import matplotlib.pyplot as plt\n",
    "import pandas as pd\n",
    "\n",
    "import brodata"
   ]
  },
  {
   "cell_type": "markdown",
   "id": "7cc10da1-f58f-4a23-814e-679697bd5f91",
   "metadata": {},
   "source": [
    "We can download the data of one Groundwater Level Dossier, using the class method `from_bro_id`. This returns a GroundwaterLevelDossier-object that contains all data from the downloaded xml-file."
   ]
  },
  {
   "cell_type": "code",
   "execution_count": null,
   "id": "9559950d-2033-4b98-be95-16c738ceefe3",
   "metadata": {},
   "outputs": [],
   "source": [
    "gld = brodata.gld.GroundwaterLevelDossier.from_bro_id(\"GLD000000012893\")\n",
    "gld"
   ]
  },
  {
   "cell_type": "markdown",
   "id": "a9bff74c-b0d8-4ab0-be31-b8fc87f6aa82",
   "metadata": {},
   "source": [
    "We can look at the contents of this GroundwaterLevelDossier by using the `to_dict()` method."
   ]
  },
  {
   "cell_type": "code",
   "execution_count": null,
   "id": "ce501fcd-6f59-4c15-8de0-d6524c571fdf",
   "metadata": {},
   "outputs": [],
   "source": [
    "gld.to_dict()"
   ]
  },
  {
   "cell_type": "markdown",
   "id": "e35e79e6-5bce-47c1-b8c5-57e88ee4f5b3",
   "metadata": {},
   "source": [
    "The observation-data is included in the `observation` attribute of the GroundwaterLevelDossier object, as a pandas DataFrame."
   ]
  },
  {
   "cell_type": "code",
   "execution_count": null,
   "id": "acaa4e2b-3dbd-4c34-a8ae-444e6f1d2450",
   "metadata": {},
   "outputs": [],
   "source": [
    "df = gld.observation\n",
    "df"
   ]
  },
  {
   "cell_type": "markdown",
   "id": "e3a4ca2b-7f75-4847-bd85-650ae2ece8d5",
   "metadata": {},
   "source": [
    "We can generate a plot of the time-series with a different color for each meta-data. We define a method `plot_series` and call this method."
   ]
  },
  {
   "cell_type": "code",
   "execution_count": null,
   "id": "ab0f3cd5-c48d-4cb6-90d1-0f34fd899c30",
   "metadata": {},
   "outputs": [],
   "source": [
    "def plot_series(df):\n",
    "    f, ax = plt.subplots(figsize=(10, 8))\n",
    "    columns = [\"qualifier\", \"status\", \"observation_type\"]\n",
    "    for qualifier, status, observation_type in df[columns].drop_duplicates().values:\n",
    "        mask = df[\"qualifier\"] == qualifier\n",
    "        if pd.isna(status):\n",
    "            mask = mask & pd.isna(df[\"status\"])\n",
    "        else:\n",
    "            mask = mask & (df[\"status\"] == status)\n",
    "        mask = mask & (df[\"observation_type\"] == observation_type)\n",
    "        label = f\"{observation_type} {status} {qualifier}\"\n",
    "        if mask.sum() > 100:\n",
    "            linestyle = \"-\"\n",
    "            marker = None\n",
    "        else:\n",
    "            linestyle = \"none\"\n",
    "            marker = \"o\"\n",
    "        df.loc[mask, \"value\"].plot(label=label, linestyle=linestyle, marker=marker)\n",
    "    ax.legend()\n",
    "    return f, ax\n",
    "\n",
    "\n",
    "plot_series(df);"
   ]
  },
  {
   "cell_type": "markdown",
   "id": "e4103692-9120-4d46-bea1-714b78153bc4",
   "metadata": {},
   "source": [
    "## Multiple objects"
   ]
  },
  {
   "cell_type": "markdown",
   "id": "e9402db7-0481-488f-a72b-579ddf06dbf1",
   "metadata": {},
   "source": [
    "### All measurements of one tube\n",
    "We can download the data of all GroundwaterLevelDossiers of one perticular tube (piezometer) using `brodata.gmw.get_tube_observations`."
   ]
  },
  {
   "cell_type": "code",
   "execution_count": null,
   "id": "4d14f497-a669-468d-b736-6b340d5238ee",
   "metadata": {},
   "outputs": [],
   "source": [
    "df = brodata.gmw.get_tube_observations(\"GMW000000017757\", 1)"
   ]
  },
  {
   "cell_type": "markdown",
   "id": "38589d6b-b7b8-474a-aee8-b9e83566008a",
   "metadata": {},
   "source": [
    "We can plot the resulting pandas DataFrame gaian with the method `plot_series` we defined above."
   ]
  },
  {
   "cell_type": "code",
   "execution_count": null,
   "id": "fcdd0f68-e092-48bc-a721-69df1f05cf02",
   "metadata": {},
   "outputs": [],
   "source": [
    "plot_series(df);"
   ]
  },
  {
   "cell_type": "markdown",
   "id": "0d2593a4-8a8e-4165-8aca-288b76ca9465",
   "metadata": {},
   "source": [
    "### All measurements of one well\n",
    "We can download all meusurementd of one Groundwater Monitoring Well using the method `nlmod.gmw.get_observations`. This returns a pandas DataFrame with a feature (row) for each Groundwater Level Dossier thta contains measurements for each of the tubes of thhis Groundwater Monitoring Well."
   ]
  },
  {
   "cell_type": "code",
   "execution_count": null,
   "id": "ce2d6e39-b162-4aba-b9f6-46f3993510fd",
   "metadata": {},
   "outputs": [],
   "source": [
    "gdf = brodata.gmw.get_observations(\"GMW000000017757\")\n",
    "gdf = gdf.set_index([\"groundwaterMonitoringWell\", \"tubeNumber\"]).sort_index()"
   ]
  },
  {
   "cell_type": "code",
   "execution_count": null,
   "id": "e5873b27-4a7e-434d-8455-5f02079a4030",
   "metadata": {},
   "outputs": [],
   "source": [
    "gdf"
   ]
  },
  {
   "cell_type": "code",
   "execution_count": null,
   "id": "3186f8ee-5040-4dbb-ab3b-b58112e2f916",
   "metadata": {},
   "outputs": [],
   "source": [
    "f, ax = plt.subplots(figsize=(10, 8))\n",
    "for index in gdf.index.unique():\n",
    "    observations = [x for x in gdf.loc[[index], \"observation\"] if not x.empty]\n",
    "    df = pd.concat(observations).sort_index()\n",
    "    for qualifier in df[\"qualifier\"].unique():\n",
    "        if pd.isna(qualifier):\n",
    "            continue\n",
    "        mask = df[\"qualifier\"] == qualifier\n",
    "        label = f\"{index[0]}_{index[1]} {qualifier}\"\n",
    "        if mask.sum() > 100:\n",
    "            linestyle = \"-\"\n",
    "            marker = None\n",
    "        else:\n",
    "            linestyle = \"none\"\n",
    "            marker = \"o\"\n",
    "        df.loc[mask, \"value\"].plot(label=label, linestyle=linestyle, marker=marker)\n",
    "plt.legend();"
   ]
  },
  {
   "cell_type": "markdown",
   "id": "e2659a1d-d1e2-473d-b74d-4d0f0cb0ba4b",
   "metadata": {},
   "source": [
    "### All measurements within extent\n",
    "You can download all groundwater level data within an extent using the method `brodata.gmw.get_data_in_extent`. This returns a GeoDataFrame."
   ]
  },
  {
   "cell_type": "code",
   "execution_count": null,
   "id": "4a098e2b-c951-4c7b-9b30-07998d4d3390",
   "metadata": {},
   "outputs": [],
   "source": [
    "extent = [118200, 118400, 439700, 440000]\n",
    "gdf = brodata.gmw.get_data_in_extent(\n",
    "    extent=extent, kind=\"gld\", combine=True, as_csv=True\n",
    ")"
   ]
  },
  {
   "cell_type": "code",
   "execution_count": null,
   "id": "04b32dd7-cda7-4435-b3ba-be867ce88bd6",
   "metadata": {},
   "outputs": [],
   "source": [
    "gdf.T"
   ]
  },
  {
   "cell_type": "code",
   "execution_count": null,
   "id": "bba92f6e-4a80-48e4-beac-84bdef926a9f",
   "metadata": {},
   "outputs": [],
   "source": [
    "gdf['observation'].iloc[0]"
   ]
  },
  {
   "cell_type": "markdown",
   "id": "22aad608-e0c3-4372-ac6d-7b99de733b68",
   "metadata": {},
   "source": [
    "We can plot the locations within the GeoDataFrame on a map using the general `plot` method of this GeoDataFrame."
   ]
  },
  {
   "cell_type": "code",
   "execution_count": null,
   "id": "e6df02d5-7696-431e-bb9b-43c517aea4b5",
   "metadata": {},
   "outputs": [],
   "source": [
    "gdf.plot()"
   ]
  },
  {
   "cell_type": "markdown",
   "id": "de74e31a-187e-48e3-b01b-2d38062a6e82",
   "metadata": {},
   "source": [
    "## Observations summary\n",
    "With the `brodata.gld.get_observations_summary` we can download a summary of te different observations within a Groundwater Level Dossier."
   ]
  },
  {
   "cell_type": "code",
   "execution_count": null,
   "id": "c99b9f3a-92d8-4ad2-9e85-6c5bd98b6898",
   "metadata": {},
   "outputs": [],
   "source": [
    "brodata.gld.get_observations_summary(\"GLD000000012893\")"
   ]
  },
  {
   "cell_type": "markdown",
   "id": "0d18a1a6-c217-4da5-9e1a-5f11d4a5857a",
   "metadata": {},
   "source": [
    "## Objects as csv"
   ]
  },
  {
   "cell_type": "code",
   "execution_count": null,
   "id": "c64c2250-0a62-4168-81d6-47a8a5a04dc2",
   "metadata": {},
   "outputs": [],
   "source": [
    "df = brodata.gld.get_objects_as_csv(\"GLD000000012893\")\n",
    "df"
   ]
  },
  {
   "cell_type": "code",
   "execution_count": null,
   "id": "f550be85-0c2a-4e84-acea-b9358cb13927",
   "metadata": {},
   "outputs": [],
   "source": [
    "f, ax = plt.subplots()\n",
    "for qualifier in df[\"qualifier\"].unique():\n",
    "    if pd.isna(qualifier):\n",
    "        continue\n",
    "    mask = df[\"qualifier\"] == qualifier\n",
    "    df.loc[mask, \"value\"].plot(label=qualifier)\n",
    "ax.legend();"
   ]
  },
  {
   "cell_type": "markdown",
   "id": "ca213ba8-a621-4ac9-8bf8-995ee1c8ce1b",
   "metadata": {},
   "source": [
    "## Series as csv"
   ]
  },
  {
   "cell_type": "code",
   "execution_count": null,
   "id": "162beb96-b588-43c1-92b3-54db1cff1691",
   "metadata": {},
   "outputs": [],
   "source": [
    "df = brodata.gld.get_series_as_csv(\"GLD000000012893\")\n",
    "df"
   ]
  }
 ],
 "metadata": {
  "language_info": {
   "name": "python"
  }
 },
 "nbformat": 4,
 "nbformat_minor": 5
}
