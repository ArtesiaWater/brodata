{
 "cells": [
  {
   "cell_type": "markdown",
   "id": "6e58f5e2-b83c-4fa7-9fdc-441874833f32",
   "metadata": {},
   "source": [
    "# Data from DINO"
   ]
  },
  {
   "cell_type": "code",
   "execution_count": null,
   "id": "58a310c0-2215-40e5-825f-fa1d0314d57f",
   "metadata": {},
   "outputs": [],
   "source": [
    "import brodata\n",
    "import matplotlib.pyplot as plt"
   ]
  },
  {
   "cell_type": "markdown",
   "id": "9ae15bb2-cfe1-414d-bcfc-069ce23d4f96",
   "metadata": {},
   "source": [
    "## Groundwater heads"
   ]
  },
  {
   "cell_type": "code",
   "execution_count": null,
   "id": "0d5a5256-e8fe-4aff-b863-c17f5a7a40e5",
   "metadata": {},
   "outputs": [],
   "source": [
    "gws = brodata.dino.Grondwaterstand.from_dino_nr(\"B38B0207\", 1)"
   ]
  },
  {
   "cell_type": "code",
   "execution_count": null,
   "id": "c975f2c3-b2f1-45e1-a5a3-ee3c8665fd07",
   "metadata": {},
   "outputs": [],
   "source": [
    "gws.data"
   ]
  },
  {
   "cell_type": "code",
   "execution_count": null,
   "id": "fcd1af88-fa3c-4649-9e0c-ef6bc5d06e27",
   "metadata": {},
   "outputs": [],
   "source": [
    "gws.data.set_index(\"Peildatum\")[\"Stand (cm t.o.v NAP)\"].plot();"
   ]
  },
  {
   "cell_type": "markdown",
   "id": "1acbb0c1-c4cc-4c33-b1d3-246e9022521f",
   "metadata": {},
   "source": [
    "## Groundwater quality"
   ]
  },
  {
   "cell_type": "code",
   "execution_count": null,
   "id": "bb023650-6992-483c-8514-fcae6ef13325",
   "metadata": {},
   "outputs": [],
   "source": [
    "gwa = brodata.dino.Grondwatersamenstelling.from_dino_nr(\"B38B0079\")"
   ]
  },
  {
   "cell_type": "code",
   "execution_count": null,
   "id": "d2082f07-977e-4b0a-9d9d-9fa51e3647c0",
   "metadata": {},
   "outputs": [],
   "source": [
    "gwa.kwaliteit_gegevens_vloeibaar.T"
   ]
  },
  {
   "cell_type": "markdown",
   "id": "401d68c2-fd93-4b87-a409-a6fad10913e1",
   "metadata": {},
   "source": [
    "## Surface water level"
   ]
  },
  {
   "cell_type": "code",
   "execution_count": null,
   "id": "f6baaaba-583e-4736-b803-56e245618c79",
   "metadata": {},
   "outputs": [],
   "source": [
    "ows = brodata.dino.Oppervlaktewaterstand.from_dino_nr(\"P38G0010\")"
   ]
  },
  {
   "cell_type": "code",
   "execution_count": null,
   "id": "1178d7af-4bc8-4100-855a-f508bd98adbb",
   "metadata": {},
   "outputs": [],
   "source": [
    "ows.data"
   ]
  },
  {
   "cell_type": "code",
   "execution_count": null,
   "id": "80a8dfed-800b-4d3b-a4f6-c33d3db5601a",
   "metadata": {},
   "outputs": [],
   "source": [
    "ows.data.set_index(\"Peildatum\")[\"Stand (cm t.o.v. NAP)\"].plot();"
   ]
  },
  {
   "cell_type": "markdown",
   "id": "733c6311-c94d-4b2f-bdba-bdf6c19bac10",
   "metadata": {},
   "source": [
    "## Drillings"
   ]
  },
  {
   "cell_type": "code",
   "execution_count": null,
   "id": "6d979b8b-7418-4d90-85d5-0ec5dc01375d",
   "metadata": {},
   "outputs": [],
   "source": [
    "gbo = brodata.dino.Boormonsterprofiel.from_dino_nr(\"B42E0199\")"
   ]
  },
  {
   "cell_type": "code",
   "execution_count": null,
   "id": "0f2d3261-f1bc-4a7a-9cfd-c915100b10f0",
   "metadata": {},
   "outputs": [],
   "source": [
    "gbo.lithologie_lagen"
   ]
  },
  {
   "cell_type": "code",
   "execution_count": null,
   "id": "89597ed7-7b3f-4886-bed0-03dabf4f1609",
   "metadata": {},
   "outputs": [],
   "source": [
    "f, ax = plt.subplots()\n",
    "brodata.plot.dino_lithology(gbo.lithologie_lagen, ax=ax)\n",
    "brodata.plot.add_lithology_legend(ax=ax);"
   ]
  },
  {
   "cell_type": "markdown",
   "id": "0d6c12ce-30f9-4e99-8a80-592d2c7da9c6",
   "metadata": {},
   "source": [
    "### Within extent"
   ]
  },
  {
   "cell_type": "code",
   "execution_count": null,
   "id": "397344c7-1582-4a16-8e0e-f3fd7a073314",
   "metadata": {},
   "outputs": [],
   "source": [
    "extent = [118000, 118400, 439560, 440100]\n",
    "gdf = brodata.dino.get_boormonsterprofiel(extent)"
   ]
  },
  {
   "cell_type": "code",
   "execution_count": null,
   "id": "b231bc95-90af-4bfb-9424-a1a939be6a7c",
   "metadata": {},
   "outputs": [],
   "source": [
    "gdf"
   ]
  },
  {
   "cell_type": "code",
   "execution_count": null,
   "id": "f2b2daff-3191-4bab-bcca-7e4da06e0781",
   "metadata": {},
   "outputs": [],
   "source": [
    "# plot the lithology along a line from west to east\n",
    "y_mean = gdf.geometry.y.mean()\n",
    "line = [(gdf.geometry.x.min(), y_mean), (gdf.geometry.x.max(), y_mean)]\n",
    "brodata.plot.lithology_along_line(gdf, line, kind=\"dino\");"
   ]
  },
  {
   "cell_type": "markdown",
   "id": "3166fc76-4da1-4d27-a2a1-7cffa2926cf7",
   "metadata": {},
   "source": [
    "## Vertical electrical sounding"
   ]
  },
  {
   "cell_type": "code",
   "execution_count": null,
   "id": "7e2e7fbb-08a4-4a5d-8b5c-ee09fbe3863c",
   "metadata": {},
   "outputs": [],
   "source": [
    "ves = brodata.dino.VerticaalElektrischSondeeronderzoek.from_dino_nr(\"W38B0022\")"
   ]
  },
  {
   "cell_type": "code",
   "execution_count": null,
   "id": "2e6f884e-afc2-497b-a275-0f4e292f608b",
   "metadata": {},
   "outputs": [],
   "source": [
    "ves.data.T"
   ]
  },
  {
   "cell_type": "code",
   "execution_count": null,
   "id": "c8e1912c-2c24-4977-a046-f852839b5dca",
   "metadata": {},
   "outputs": [],
   "source": [
    "ves.data.set_index(\"L/2\")[\"R\"].plot(marker=\".\");"
   ]
  },
  {
   "cell_type": "markdown",
   "id": "0662d852-616a-4f29-9252-5a165e54b2b7",
   "metadata": {},
   "source": [
    "A Vertical electrical sounding can have more than 1 interpretations. We select the first one."
   ]
  },
  {
   "cell_type": "code",
   "execution_count": null,
   "id": "e2c5477b-edef-48b2-91d7-12f2e5eb84ce",
   "metadata": {},
   "outputs": [],
   "source": [
    "ves.interpretaties[0]"
   ]
  }
 ],
 "metadata": {
  "language_info": {
   "name": "python"
  }
 },
 "nbformat": 4,
 "nbformat_minor": 5
}
