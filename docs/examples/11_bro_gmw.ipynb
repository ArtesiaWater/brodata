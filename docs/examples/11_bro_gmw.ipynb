{
 "cells": [
  {
   "cell_type": "markdown",
   "id": "3bac9668-7e2f-4698-8872-8da86d6f88d4",
   "metadata": {},
   "source": [
    "# Groundwater Monitoring Well\n",
    "We can download a GroundwaterMonitoringWell using the class-method `from_bro_id` of the `GroundwaterMonitoringWell` class."
   ]
  },
  {
   "cell_type": "code",
   "execution_count": null,
   "id": "9c493dc6-cee8-4d90-8ed6-083264afae63",
   "metadata": {},
   "outputs": [],
   "source": [
    "import brodata\n",
    "import pandas as pd\n",
    "import matplotlib.pyplot as plt"
   ]
  },
  {
   "cell_type": "code",
   "execution_count": null,
   "id": "b27897d1-1b1f-44b8-a927-c91ddb8b8516",
   "metadata": {},
   "outputs": [],
   "source": [
    "gmw = brodata.gmw.GroundwaterMonitoringWell.from_bro_id(\"GMW000000049567\")"
   ]
  },
  {
   "cell_type": "markdown",
   "id": "fcfdcf42-ba21-4141-aeaf-79db39f77629",
   "metadata": {},
   "source": [
    "We can use the `to_dict` method to display all information in this GroundwaterMonitoringWell"
   ]
  },
  {
   "cell_type": "code",
   "execution_count": null,
   "id": "9b4a86ce-2e22-4e2f-8109-883c88c7f178",
   "metadata": {},
   "outputs": [],
   "source": [
    "gmw.to_dict()"
   ]
  },
  {
   "cell_type": "markdown",
   "id": "30a0119d-da0f-4929-914f-5f1edf5b9a1b",
   "metadata": {},
   "source": [
    "The metadata of the tubes of this `GroundwaterMonitoringWell` are stored in the `monitoringTube`-attribute, as a pandas DataFrame."
   ]
  },
  {
   "cell_type": "code",
   "execution_count": null,
   "id": "768e063e-2476-4909-82ba-a6e7f472ae39",
   "metadata": {},
   "outputs": [],
   "source": [
    "gmw.monitoringTube.T"
   ]
  },
  {
   "cell_type": "markdown",
   "id": "bc2bd34f-de66-47cd-9caa-b2b722a733d6",
   "metadata": {},
   "source": [
    "## All groundwater monitoring wells in extent\n",
    "We can download all GroundwaterMonitoringWells within a certain extent using the `get_characteristics` method, which returns a geopandas GeoDataFrame."
   ]
  },
  {
   "cell_type": "code",
   "execution_count": null,
   "id": "4823aa22-ae45-4f11-99f6-f2be01eb9c07",
   "metadata": {},
   "outputs": [],
   "source": [
    "extent = [117700, 118700, 439400, 440400]\n",
    "gdf = brodata.gmw.get_characteristics(extent=extent)\n",
    "gdf"
   ]
  },
  {
   "cell_type": "markdown",
   "id": "b010e721-a17b-4d59-8936-24131909eb5e",
   "metadata": {},
   "source": [
    "Because this is a GeoDataFrame, we can plot the locations of these GroundwaterMonitoringWells easily."
   ]
  },
  {
   "cell_type": "code",
   "execution_count": null,
   "id": "f6c59f4e-da7f-4543-a0a1-d787d6d09dda",
   "metadata": {},
   "outputs": [],
   "source": [
    "gdf.plot();"
   ]
  },
  {
   "cell_type": "markdown",
   "id": "ce78c820-e078-4ae2-9561-376ed9916193",
   "metadata": {},
   "source": [
    "## All groundwater monitoring tubes in extent\n",
    "To get the metadata of the groundwater monitoring_tubes, we need to download the GMW-objects. These objects contain the metadata of the tubes, which are not given in the characteristics data. This is done in the method `get_tube_gdf_from_characteristics`. We supply the downloaded characteristics, and get a new GeoDataFrame, with one row per tube."
   ]
  },
  {
   "cell_type": "code",
   "execution_count": null,
   "id": "cc593b41-adfb-4102-9b32-38726aa16790",
   "metadata": {},
   "outputs": [],
   "source": [
    "tube_gdf = brodata.gmw.get_tube_gdf_from_characteristics(gdf)\n",
    "tube_gdf"
   ]
  },
  {
   "cell_type": "markdown",
   "id": "8d5d2527-414e-49f9-82af-37f9ecdd6def",
   "metadata": {},
   "source": [
    "## Get bronhouders\n",
    "Get all GMW-ids of a specific bronhouder."
   ]
  },
  {
   "cell_type": "code",
   "execution_count": null,
   "id": "71f6082a-9c67-4f50-9c29-f63334a1de18",
   "metadata": {},
   "outputs": [],
   "source": [
    "brodata.gmw.get_bro_ids_of_bronhouder(30277172)"
   ]
  }
 ],
 "metadata": {
  "language_info": {
   "name": "python"
  }
 },
 "nbformat": 4,
 "nbformat_minor": 5
}
