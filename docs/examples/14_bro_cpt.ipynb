{
 "cells": [
  {
   "cell_type": "markdown",
   "id": "3f86e6b2-1080-4af2-a63d-fe79cc677d15",
   "metadata": {},
   "source": [
    "# Cone Penetration Test"
   ]
  },
  {
   "cell_type": "code",
   "execution_count": null,
   "id": "943767fd-907a-4e0f-a595-5f8a71b1e0ed",
   "metadata": {},
   "outputs": [],
   "source": [
    "import os\n",
    "\n",
    "import brodata"
   ]
  },
  {
   "cell_type": "code",
   "execution_count": null,
   "id": "dd43590d-69dd-4e2c-a687-38d131a86c9a",
   "metadata": {},
   "outputs": [],
   "source": [
    "download_dir = \"download\"\n",
    "if not os.path.isdir(download_dir):\n",
    "    os.makedirs(download_dir)\n",
    "fname = os.path.join(download_dir, \"CPT000000005925.xml\")\n",
    "cpt = brodata.cpt.ConePenetrationTest.from_bro_id(\"CPT000000005925\", to_file=fname)"
   ]
  },
  {
   "cell_type": "code",
   "execution_count": null,
   "id": "326e1203-2356-4a27-bac5-d98dd5923d87",
   "metadata": {},
   "outputs": [],
   "source": [
    "cpt.conePenetrationTest"
   ]
  },
  {
   "cell_type": "markdown",
   "id": "f97db16e-145d-4f1a-a863-64eb58b17790",
   "metadata": {},
   "source": [
    "Plot a single cone penetration test"
   ]
  },
  {
   "cell_type": "code",
   "execution_count": null,
   "id": "5bd9a83d-0844-482c-b8a0-46aa60e42c6c",
   "metadata": {},
   "outputs": [],
   "source": [
    "brodata.plot.cone_penetration_test(cpt);"
   ]
  },
  {
   "cell_type": "markdown",
   "id": "a5efc961-5b80-49fd-afc2-7d6dd6a65dec",
   "metadata": {},
   "source": [
    "We can also call the BRO-service to generate the figure for us. This sends a request to the BRO-webservice, and returns a graphical representation of the cone penetration test."
   ]
  },
  {
   "cell_type": "code",
   "execution_count": null,
   "id": "ebdeed65-88b0-441c-ac45-af915abdfcc9",
   "metadata": {},
   "outputs": [],
   "source": [
    "brodata.cpt.graph(fname)"
   ]
  },
  {
   "cell_type": "markdown",
   "id": "e0bfead2-8811-48b9-acb3-4641bb3ee080",
   "metadata": {},
   "source": [
    "We can show the different supported graph types with the following command:"
   ]
  },
  {
   "cell_type": "code",
   "execution_count": null,
   "id": "24e8eae0-0773-4ebe-b31c-54c8e3764835",
   "metadata": {},
   "outputs": [],
   "source": [
    "brodata.cpt.get_graph_types()"
   ]
  },
  {
   "cell_type": "markdown",
   "id": "055cd628-d27e-4374-ab1b-30055a5f84d4",
   "metadata": {},
   "source": [
    "Show the total contents of the Cone Penetration Test"
   ]
  },
  {
   "cell_type": "code",
   "execution_count": null,
   "id": "68bd6334-ed31-46fe-a989-39c9fa585194",
   "metadata": {},
   "outputs": [],
   "source": [
    "cpt.to_dict()"
   ]
  }
 ],
 "metadata": {
  "language_info": {
   "name": "python"
  }
 },
 "nbformat": 4,
 "nbformat_minor": 5
}
