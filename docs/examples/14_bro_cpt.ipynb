{
 "cells": [
  {
   "cell_type": "markdown",
   "id": "3f86e6b2-1080-4af2-a63d-fe79cc677d15",
   "metadata": {},
   "source": [
    "# Cone Penetration Test"
   ]
  },
  {
   "cell_type": "code",
   "execution_count": null,
   "id": "943767fd-907a-4e0f-a595-5f8a71b1e0ed",
   "metadata": {},
   "outputs": [],
   "source": [
    "import brodata"
   ]
  },
  {
   "cell_type": "code",
   "execution_count": null,
   "id": "dd43590d-69dd-4e2c-a687-38d131a86c9a",
   "metadata": {},
   "outputs": [],
   "source": [
    "cpt = brodata.cpt.ConePenetrationTest.from_bro_id(\"CPT000000005925\")"
   ]
  },
  {
   "cell_type": "markdown",
   "id": "f97db16e-145d-4f1a-a863-64eb58b17790",
   "metadata": {},
   "source": [
    "Plot a single cone penetration test"
   ]
  },
  {
   "cell_type": "code",
   "execution_count": null,
   "id": "5bd9a83d-0844-482c-b8a0-46aa60e42c6c",
   "metadata": {},
   "outputs": [],
   "source": [
    "brodata.plot.cone_penetration_test(cpt);"
   ]
  },
  {
   "cell_type": "markdown",
   "id": "055cd628-d27e-4374-ab1b-30055a5f84d4",
   "metadata": {},
   "source": [
    "Show the total contents of the Cone Penetration test"
   ]
  },
  {
   "cell_type": "code",
   "execution_count": null,
   "id": "68bd6334-ed31-46fe-a989-39c9fa585194",
   "metadata": {},
   "outputs": [],
   "source": [
    "cpt.to_dict()"
   ]
  },
  {
   "cell_type": "code",
   "execution_count": null,
   "id": "ebdeed65-88b0-441c-ac45-af915abdfcc9",
   "metadata": {},
   "outputs": [],
   "source": []
  }
 ],
 "metadata": {
  "language_info": {
   "name": "python"
  }
 },
 "nbformat": 4,
 "nbformat_minor": 5
}
